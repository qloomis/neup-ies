{
 "cells": [
  {
   "cell_type": "code",
   "execution_count": 4,
   "metadata": {},
   "outputs": [
    {
     "name": "stdout",
     "output_type": "stream",
     "text": [
      "28.159042649114234\n"
     ]
    }
   ],
   "source": [
    "## Tester code for TTD fwh model\n",
    "import numpy as np\n",
    "from fwh import *\n",
    "from components import *\n",
    "from matplotlib import pyplot as plt"
   ]
  },
  {
   "cell_type": "code",
   "execution_count": 5,
   "metadata": {},
   "outputs": [],
   "source": [
    "# get input state data -- as per Wang's paper\n",
    "## Test model\n",
    "\n",
    "# //constants for testing code\n",
    "m_given = [0, 619.385, 619.385,68.802,15.98,670.831,670.831,522.217,39.407,438.914,\\\n",
    "43.896,438.914,19.4,24.018, 28.702,366.794,25.599,12.993,17.286,13.574,297.343,\\\n",
    "29813.6,29813.6,395.497,395.497,395.497,395.497,395.497,395.497,522.217,522.217,\\\n",
    "522.217,522.217,522.217,39.407,83.303,102.702,25.599,38.592,55.878,69.452,28.702]\n",
    "T_celc = [0, 25,330.41,25,600,394,127,571,364.23,304.98,304.98,569,459.68,362.68,\\\n",
    "362.68,362.68,253.53,128.72,88.19,60.94,35.79,25,30.79,35.79,35.94,58.16,85.41,\\\n",
    "105.06,143.24,180.06,185.59,211.95,253.27,284.05,258.82,217.5,191.14,110.61,90.96,\\\n",
    "63.71,41.49, 39.68]\n",
    "T_given = np.array(T_celc)+273.15\n",
    "\n",
    "P_bar = [0, 1.002,1,1,1,0.998,0.978,254,67.97,43,43,41.1,20.58,10.44,10.44,10.44,4.374,\\\n",
    "    1.333,0.655,0.208,0.059,1,1,0.059,17.24,15.84,14.54,12.94,11.44,10.04,308.7,303.7,298.4,\\\n",
    "    293.5,64.97,41,19.08,4.174,1.333,0.655,0.208,0.073]\n",
    "    \n",
    "P_given = np.array(P_bar)*100000.\n",
    "h_given = np.zeros(len(P_given))\n",
    "for i in range(1,len(h_given)):\n",
    "    h_given[i] = enthalpy(P=P_given[i], T=T_given[i])"
   ]
  },
  {
   "cell_type": "code",
   "execution_count": 6,
   "metadata": {},
   "outputs": [],
   "source": [
    "# Prepare test arrays\n",
    "HX = [1,2,3,5,6,7,8]\n",
    "# drain in\n",
    "m_D_in = [0,m_given[34],m_given[35],0,m_given[37],m_given[38],m_given[39]]\n",
    "h_D_in = [0,h_given[34],h_given[35],0,h_given[37],h_given[38],h_given[39]]\n",
    "P_D = [0,P_given[34],P_given[35],0,P_given[37],P_given[38],P_given[39]]\n",
    "\n",
    "# turbine in\n",
    "m_T_check = [m_given[8],m_given[10],m_given[12],m_given[16],m_given[17],m_given[18],m_given[19]]\n",
    "P_T = [P_given[8],P_given[10],P_given[12],P_given[16],P_given[17],P_given[18],P_given[19]]\n",
    "h_T = [h_given[8],h_given[10],h_given[12],h_given[16],h_given[17],h_given[18],h_given[19]]\n",
    "T_T = [T_given[8],T_given[10],T_given[12],T_given[16],T_given[17],T_given[18],T_given[19]]\n",
    "\n",
    "# fwh in\n",
    "m_dot_FW = [m_given[32],m_given[31],m_given[30],m_given[27],m_given[26],m_given[25],m_given[24]]\n",
    "P_FW = [P_given[32],P_given[31],P_given[30],P_given[27],P_given[26],P_given[25],P_given[24]]\n",
    "h_FW = [h_given[32],h_given[31],h_given[30],h_given[27],h_given[26],h_given[25],h_given[24]]\n",
    "T_FW_in = [T_given[32],T_given[31],T_given[30],T_given[27],T_given[26],T_given[25],T_given[24]]\n",
    "\n",
    "# FW out\n",
    "m_dot_FW_out = [m_given[33],m_given[32],m_given[31],m_given[28],m_given[27],m_given[26],m_given[25]]\n",
    "T_FW_out = [T_given[33],T_given[32],T_given[31],T_given[28],T_given[27],T_given[26],T_given[25]]\n",
    "\n",
    "# Approach Temp + TTD\n",
    "DT = 5.55\n",
    "P_sat  = np.zeros(len(HX))\n",
    "T_sat  = np.zeros(len(HX))\n",
    "DT_TTD  = np.zeros(len(HX))\n",
    "N_hxrs = 30\n",
    "\n",
    "ret = np.zeros(len(HX))\n",
    "err_check = np.zeros(len(HX))\n",
    "\n",
    "for i in range(len(HX)):\n",
    "    P_sat[i] = P_T[i]\n",
    "    T_sat[i] = t_sat( P = P_sat[i])+0.01\n",
    "    DT_TTD[i] = T_FW_out[i] - T_sat[i]"
   ]
  },
  {
   "cell_type": "code",
   "execution_count": 7,
   "metadata": {},
   "outputs": [],
   "source": [
    "# Solve using TTD model\n",
    "for i in range(len(HX)):\n",
    "    #print(\"Heat exchanger analysis:\" + str(HX[i]))    \n",
    "    ans = fwh_TTD( m_D_in[i], h_D_in[i], P_D[i], m_dot_FW[i], h_FW[i], P_FW[i], h_T[i], P_T[i], DT_TTD[i], DT, N_hxrs)\n",
    "    ret[i] = ans[0]\n",
    "    err_check[i] = ret[i] - m_T_check[i]"
   ]
  },
  {
   "cell_type": "code",
   "execution_count": 17,
   "metadata": {},
   "outputs": [
    {
     "data": {
      "text/plain": [
       "<matplotlib.collections.PathCollection at 0x2182591a400>"
      ]
     },
     "execution_count": 17,
     "metadata": {},
     "output_type": "execute_result"
    },
    {
     "data": {
      "image/png": "[encoded data removed]",
      "text/plain": [
       "<Figure size 432x288 with 1 Axes>"
      ]
     },
     "metadata": {
      "needs_background": "light"
     },
     "output_type": "display_data"
    }
   ],
   "source": [
    "# Plot Mass flow rate\n",
    "plt.scatter(HX,ret)"
   ]
  },
  {
   "cell_type": "code",
   "execution_count": 18,
   "metadata": {},
   "outputs": [
    {
     "data": {
      "text/plain": [
       "<matplotlib.collections.PathCollection at 0x2182597d040>"
      ]
     },
     "execution_count": 18,
     "metadata": {},
     "output_type": "execute_result"
    },
    {
     "data": {
      "image/png": "[encoded data removed]",
      "text/plain": [
       "<Figure size 432x288 with 1 Axes>"
      ]
     },
     "metadata": {
      "needs_background": "light"
     },
     "output_type": "display_data"
    }
   ],
   "source": [
    "# Plot Mass flow rates\n",
    "plt.scatter(HX,m_T_check)"
   ]
  },
  {
   "cell_type": "code",
   "execution_count": 12,
   "metadata": {},
   "outputs": [
    {
     "data": {
      "text/plain": [
       "Text(0, 0.5, 'HX')"
      ]
     },
     "execution_count": 12,
     "metadata": {},
     "output_type": "execute_result"
    },
    {
     "data": {
      "image/png": "[encoded data removed]",
      "text/plain": [
       "<Figure size 432x288 with 1 Axes>"
      ]
     },
     "metadata": {
      "needs_background": "light"
     },
     "output_type": "display_data"
    }
   ],
   "source": [
    "# Plot error\n",
    "plt.scatter(HX,err_check)\n",
    "plt.title(\"Error per HX\")\n",
    "plt.xlabel(\"Error [kg/s]\")\n",
    "plt.ylabel(\"HX\")"
   ]
  },
  {
   "cell_type": "code",
   "execution_count": 20,
   "metadata": {},
   "outputs": [],
   "source": [
    "# Solve using DT_int\n",
    "ret_int = np.zeros(len(HX))\n",
    "err_int_check = np.zeros(len(HX))\n",
    "DT_int = [2.8,3,4.9,6.3,3.1,2.9,2.9]\n",
    "for i in range(len(HX)):\n",
    "    #print(\"Heat exchanger analysis:\" + str(HX[i]))    \n",
    "    ans = fwh( m_D_in[i], h_D_in[i], P_D[i], m_dot_FW[i], h_FW[i], P_FW[i], h_T[i], P_T[i], DT_int[i], DT, N_hxrs)\n",
    "    ret_int[i] = ans[0]\n",
    "    err_int_check[i] = ret_int[i] - m_T_check[i]"
   ]
  },
  {
   "cell_type": "code",
   "execution_count": 21,
   "metadata": {
    "scrolled": true
   },
   "outputs": [
    {
     "data": {
      "text/plain": [
       "Text(0, 0.5, 'HX')"
      ]
     },
     "execution_count": 21,
     "metadata": {},
     "output_type": "execute_result"
    },
    {
     "data": {
      "image/png": "[encoded data removed]",
      "text/plain": [
       "<Figure size 432x288 with 1 Axes>"
      ]
     },
     "metadata": {
      "needs_background": "light"
     },
     "output_type": "display_data"
    }
   ],
   "source": [
    "# Plot error\n",
    "plt.scatter(HX,err_int_check)\n",
    "plt.title(\"Error per HX\")\n",
    "plt.xlabel(\"Error [kg/s]\")\n",
    "plt.ylabel(\"HX\")"
   ]
  },
  {
   "cell_type": "code",
   "execution_count": 48,
   "metadata": {},
   "outputs": [
    {
     "data": {
      "image/png": "[encoded data removed]",
      "text/plain": [
       "<Figure size 432x288 with 1 Axes>"
      ]
     },
     "metadata": {
      "needs_background": "light"
     },
     "output_type": "display_data"
    }
   ],
   "source": [
    "fig = plt.figure()\n",
    "ax1 = fig.add_subplot(111)\n",
    "ax1.scatter(HX,err_check, s=10, c='b', marker=\"s\", label='first')\n",
    "ax1.scatter(HX,err_int_check, s=10, c='r', marker=\"o\", label='second')\n",
    "plt.title(\"Error per HX\")\n",
    "plt.xlabel(\"Error [kg/s]\")\n",
    "plt.ylabel(\"HX\")\n",
    "plt.legend([\"TTD\",\"DT_int\"],loc='upper left')\n",
    "plt.show()"
   ]
  },
  {
   "cell_type": "code",
   "execution_count": null,
   "metadata": {},
   "outputs": [],
   "source": []
  },
  {
   "cell_type": "code",
   "execution_count": null,
   "metadata": {},
   "outputs": [],
   "source": []
  }
 ],
 "metadata": {
  "kernelspec": {
   "display_name": "Python 3",
   "language": "python",
   "name": "python3"
  },
  "language_info": {
   "codemirror_mode": {
    "name": "ipython",
    "version": 3
   },
   "file_extension": ".py",
   "mimetype": "text/x-python",
   "name": "python",
   "nbconvert_exporter": "python",
   "pygments_lexer": "ipython3",
   "version": "3.8.5"
  }
 },
 "nbformat": 4,
 "nbformat_minor": 4
}
